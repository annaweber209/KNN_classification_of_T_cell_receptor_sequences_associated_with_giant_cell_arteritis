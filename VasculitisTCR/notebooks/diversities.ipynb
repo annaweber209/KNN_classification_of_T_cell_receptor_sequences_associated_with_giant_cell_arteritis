{
 "cells": [
  {
   "cell_type": "code",
   "execution_count": 16,
   "metadata": {},
   "outputs": [],
   "source": [
    "import numpy as np\n",
    "import pandas as pd\n",
    "import os\n",
    "import pandas_profiling\n",
    "from matplotlib import pyplot as plt\n",
    "import seaborn as sns\n",
    "from sklearn.metrics import auc, roc_curve\n",
    "import glob\n",
    "from scipy.stats import mannwhitneyu"
   ]
  },
  {
   "cell_type": "code",
   "execution_count": 17,
   "metadata": {},
   "outputs": [],
   "source": [
    "def diversity_measures(frequency, counts):\n",
    "    # Species Richness\n",
    "    total_species = len(frequency)\n",
    "    \n",
    "    # Shannon diversity\n",
    "    i=0\n",
    "    log_frequency = []\n",
    "    while i < len(frequency):\n",
    "        a = np.log(frequency[i])\n",
    "        i+=1\n",
    "        log_frequency.append(a)\n",
    "    H1 = -np.sum(frequency * log_frequency)\n",
    "\n",
    "    # Simpson diversity index\n",
    "    N = np.sum(frequency)\n",
    "    n = frequency \n",
    "    squared_frequency=[]\n",
    "    i=0\n",
    "    while i < len(frequency):\n",
    "        a = frequency[i]**2\n",
    "        i+=1\n",
    "        squared_frequency.append(a)\n",
    "    simpson = sum(squared_frequency)\n",
    "\n",
    "    # Berger-Park Index\n",
    "    B = np.max(frequency)\n",
    "\n",
    "    #Chao2 estimator\n",
    "    f1 = 0\n",
    "    f2 = 0\n",
    "    for count in counts:\n",
    "        if int(count) == 1:\n",
    "            f1 += 1\n",
    "        if int(count) == 2:\n",
    "            f2 += 1\n",
    "    Chao2_bias = total_species + f1*(f1-1)/(2*(f2+1))\n",
    "\n",
    "    return total_species, H1, (1-simpson), B, Chao2_bias"
   ]
  },
  {
   "cell_type": "code",
   "execution_count": 18,
   "metadata": {},
   "outputs": [],
   "source": [
    "## Cohort 1\n",
    "# Read in Names of Files here\n",
    "basefolder = \"\"\n",
    "plotsfolder = 'plots'\n",
    "namesfile = \"\"\n",
    "metadata = pd.read_csv(os.path.join(basefolder, namesfile))\n",
    "metadata = metadata[~metadata['Age'].isin(['Unknown', 'nk'])]\n",
    "metadata['Age'] = [int(age) for age in metadata['Age']]\n",
    "# exclude samples with unknown age\n",
    "metadata_gDNA = metadata[metadata['gDNA']==1]"
   ]
  },
  {
   "cell_type": "code",
   "execution_count": 19,
   "metadata": {},
   "outputs": [],
   "source": [
    "# GCA DATA\n",
    "diversities = []\n",
    "for name in metadata_gDNA[metadata_gDNA['GCA Status'] == 1]['Name']:\n",
    "    if len(glob.glob(basefolder+'/cleaned data/*'+name+'*_cleaned.txt')) > 1: #check samples are unique\n",
    "        print(name, glob.glob(basefolder+'/cleaned data/*'+name+'*_cleaned.txt'))\n",
    "    for filename in glob.glob(basefolder+'/cleaned data/*'+name+'*_cleaned.txt'):\n",
    "        sample = pd.read_csv(\n",
    "            filename,\n",
    "            usecols=['cloneCount', 'cloneFraction', 'aaSeqCDR3', 'bestVHit', 'bestJHit']\n",
    "        )\n",
    "        #sample = sample[sample['cloneFraction'] >= cutoff]\n",
    "\n",
    "        total_species, H1, simpson, B, Chao2_bias = diversity_measures(sample['cloneFraction'], sample['cloneCount'])\n",
    "        diversities.append([total_species, H1, simpson, B])\n",
    "diversities = pd.DataFrame(diversities, columns = ['Species R.', 'Shannon', 'Simpson', 'Berger-Park'])\n",
    "gca_data = pd.concat([metadata_gDNA[metadata_gDNA['GCA Status'] == 1].reset_index(), diversities], axis=1)"
   ]
  },
  {
   "cell_type": "code",
   "execution_count": 20,
   "metadata": {},
   "outputs": [],
   "source": [
    "control_files = pd.read_csv(os.path.join(basefolder,'TCRs_for_clustering','agematched_control_files.csv'))"
   ]
  },
  {
   "cell_type": "code",
   "execution_count": 21,
   "metadata": {},
   "outputs": [],
   "source": [
    "# AGEMATCHED CONTROL DATA\n",
    "diversities = []\n",
    "for name in control_files['Name']:\n",
    "    if len(glob.glob(basefolder+'/cleaned data/*'+name+'*_cleaned.txt')) > 1: #check samples are unique\n",
    "        print(basefolder+'/cleaned data/*'+name+'*_cleaned.txt', glob.glob(basefolder+'cleaned data/*'+name+'*_cleaned.txt'))\n",
    "    for filename in glob.glob(basefolder+'/cleaned data/*'+name+'*_cleaned.txt'):\n",
    "        sample = pd.read_csv(\n",
    "            filename,\n",
    "            usecols=['cloneCount', 'cloneFraction', 'aaSeqCDR3', 'bestVHit', 'bestJHit']\n",
    "        )\n",
    "        total_species, H1, simpson, B, Chao2_bias = diversity_measures(sample['cloneFraction'], sample['cloneCount'])\n",
    "        diversities.append([total_species, H1, simpson, B])\n",
    "diversities = pd.DataFrame(diversities, columns = ['Species R.', 'Shannon', 'Simpson', 'Berger-Park'])\n",
    "control_data = pd.concat([metadata_gDNA[metadata_gDNA['Control Status'] == 1].reset_index(), diversities], axis=1).dropna()"
   ]
  },
  {
   "cell_type": "code",
   "execution_count": 22,
   "metadata": {},
   "outputs": [
    {
     "data": {
      "text/plain": [
       "{'Species R.': 0.00032603258487557096,\n",
       " 'Shannon': 0.0036472072859125328,\n",
       " 'Simpson': 0.04340024074645014}"
      ]
     },
     "execution_count": 22,
     "metadata": {},
     "output_type": "execute_result"
    }
   ],
   "source": [
    "significant_combinations = {}\n",
    "for diversity in ['Species R.', 'Shannon', 'Simpson']:\n",
    "    dist1 = gca_data[diversity].to_numpy()\n",
    "    dist2 = control_data[diversity].to_numpy()\n",
    "    U, p = mannwhitneyu(dist1, dist2, alternative='two-sided')\n",
    "    if p < 0.05:\n",
    "        significant_combinations[diversity] =  p\n",
    "significant_combinations"
   ]
  },
  {
   "cell_type": "code",
   "execution_count": 23,
   "metadata": {},
   "outputs": [],
   "source": [
    "gca_data['Label'] = ['GCA' for x in gca_data['Shannon']]\n",
    "control_data['Label'] = ['Age-matched Control' for x in control_data['Shannon']]\n",
    "data=pd.concat([gca_data, control_data])"
   ]
  },
  {
   "cell_type": "code",
   "execution_count": 31,
   "metadata": {},
   "outputs": [
    {
     "data": {
      "image/png": "[encoded data removed]",
      "text/plain": [
       "<Figure size 432x288 with 1 Axes>"
      ]
     },
     "metadata": {},
     "output_type": "display_data"
    }
   ],
   "source": [
    "# Plots\n",
    "sns.set_theme(style=\"whitegrid\", palette=\"colorblind\", font_scale=1.3)\n",
    "fig, ax1 = plt.subplots(1, 1, sharex=True, sharey=False)\n",
    "y_axis = 'Species R.'\n",
    "splot1 = sns.boxplot(x=data['Label'],y=data[y_axis], width=0.8, linewidth = 1)\n",
    "  \n",
    "ax1.set_ylabel('Species Richness')\n",
    "ax1.set_xlabel('',fontsize=1)                                                      \n",
    "\n",
    "# Get the y-axis limits\n",
    "bottom, top = ax1.get_ylim()\n",
    "y_range = top - bottom\n",
    "\n",
    "# Significance bars\n",
    "if y_axis in significant_combinations.keys():\n",
    "    # Columns corresponding to the datasets of interest\n",
    "    x1 = 0\n",
    "    x2 = 1\n",
    "    # What level is this bar among the bars above the plot?\n",
    "    level = 1\n",
    "    # Plot the bar\n",
    "    bar_height = (y_range * 0.07 * level) + top\n",
    "    bar_tips = bar_height - (y_range * 0.02)\n",
    "    plt.plot(\n",
    "        [x1, x1, x2, x2],\n",
    "        [bar_tips, bar_height, bar_height, bar_tips], lw=1, c='k'\n",
    "    )\n",
    "    # Significance level\n",
    "    p = significant_combinations[y_axis]\n",
    "    if p < 0.001:\n",
    "        sig_symbol = '***'\n",
    "    elif p < 0.01:\n",
    "        sig_symbol = '**'\n",
    "    elif p < 0.05:\n",
    "        sig_symbol = '*'\n",
    "    text_height = bar_height + (y_range * 0.01)\n",
    "    plt.text((x1 + x2) * 0.5, text_height, sig_symbol, ha='center', va='bottom', c='k', fontsize=16)\n",
    "\n",
    "\n",
    "plt.tight_layout()\n",
    "plt.savefig(os.path.join(basefolder, plotsfolder,y_axis+'.pdf'))"
   ]
  },
  {
   "cell_type": "code",
   "execution_count": 32,
   "metadata": {},
   "outputs": [
    {
     "data": {
      "image/png": "[encoded data removed]",
      "text/plain": [
       "<Figure size 432x288 with 1 Axes>"
      ]
     },
     "metadata": {},
     "output_type": "display_data"
    }
   ],
   "source": [
    "# Plots\n",
    "sns.set_theme(style=\"whitegrid\", palette=\"colorblind\", font_scale=1.3)\n",
    "fig, ax1 = plt.subplots(1, 1, sharex=True, sharey=False)\n",
    "y_axis = 'Shannon'\n",
    "splot1 = sns.boxplot(x=data['Label'],y=data[y_axis], width=0.8, linewidth = 1)\n",
    "  \n",
    "ax1.set_ylabel('Shannon Diversity')\n",
    "ax1.set_xlabel('',fontsize=1)\n",
    "ax1.tick_params(labelsize=16)                                                        \n",
    "\n",
    "# Get the y-axis limits\n",
    "bottom, top = ax1.get_ylim()\n",
    "y_range = top - bottom\n",
    "\n",
    "# Significance bars\n",
    "if y_axis in significant_combinations.keys():\n",
    "    # Columns corresponding to the datasets of interest\n",
    "    x1 = 0\n",
    "    x2 = 1\n",
    "    # What level is this bar among the bars above the plot?\n",
    "    level = 1\n",
    "    # Plot the bar\n",
    "    bar_height = (y_range * 0.07 * level) + top\n",
    "    bar_tips = bar_height - (y_range * 0.02)\n",
    "    plt.plot(\n",
    "        [x1, x1, x2, x2],\n",
    "        [bar_tips, bar_height, bar_height, bar_tips], lw=1, c='k'\n",
    "    )\n",
    "    # Significance level\n",
    "    p = significant_combinations[y_axis]\n",
    "    if p < 0.001:\n",
    "        sig_symbol = '***'\n",
    "    elif p < 0.01:\n",
    "        sig_symbol = '**'\n",
    "    elif p < 0.05:\n",
    "        sig_symbol = '*'\n",
    "    text_height = bar_height + (y_range * 0.01)\n",
    "    plt.text((x1 + x2) * 0.5, text_height, sig_symbol, ha='center', va='bottom', c='k', fontsize=16)\n",
    "\n",
    "\n",
    "plt.tight_layout()\n",
    "plt.savefig(os.path.join(basefolder, plotsfolder,y_axis+'.pdf'))"
   ]
  },
  {
   "cell_type": "code",
   "execution_count": null,
   "metadata": {},
   "outputs": [],
   "source": [
    "def heatmap(x, y, size, color):\n",
    "    plot_grid = plt.GridSpec(1, 15, hspace=0.2, wspace=0.1) # Setup a 1x15 grid\n",
    "    ax = plt.subplot(plot_grid[:,:-1]) # Use the leftmost 14 columns of the grid for the main plot\n",
    "    \n",
    "    # Mapping from column names to integer coordinates\n",
    "    x_labels = [v for v in sorted(x.unique())]\n",
    "    y_labels = [v for v in sorted(y.unique())]\n",
    "    x_to_num = {p[1]:p[0] for p in enumerate(x_labels)} \n",
    "    y_to_num = {p[1]:p[0] for p in enumerate(y_labels)} \n",
    "    \n",
    "    size_scale = 500\n",
    "    n_colors = 256 # Use 256 colors for the diverging color palette\n",
    "    palette = sns.diverging_palette(20, 220, n=n_colors) # Create the palette\n",
    "    color_min, color_max = [-1, 1] # Range of values that will be mapped to the palette, i.e. min and max possible correlation\n",
    "\n",
    "    def value_to_color(val):\n",
    "        val_position = float((val - color_min)) / (color_max - color_min) # position of value in the input range, relative to the length of the input range\n",
    "        ind = int(val_position * (n_colors - 1)) # target index in the color palette\n",
    "        return palette[ind]\n",
    "\n",
    "    ax.scatter(\n",
    "        x=x.map(x_to_num),\n",
    "        y=y.map(y_to_num),\n",
    "        s=size * size_scale,\n",
    "        c=color.apply(value_to_color), # Vector of square color values, mapped to color palette\n",
    "        marker='s'\n",
    "    )\n",
    "    \n",
    "    # Show column labels on the axes\n",
    "    ax.set_xticks([x_to_num[v] for v in x_labels])\n",
    "    ax.set_xticklabels(x_labels, rotation=45, horizontalalignment='right', size=16)\n",
    "    ax.set_yticks([y_to_num[v] for v in y_labels])\n",
    "    ax.set_yticklabels(y_labels, size=16)\n",
    "    ax.grid(False, 'major')\n",
    "    ax.grid(True, 'minor')\n",
    "    ax.set_xticks([t + 0.5 for t in ax.get_xticks()], minor=True)\n",
    "    ax.set_yticks([t + 0.5 for t in ax.get_yticks()], minor=True)\n",
    "    ax.set_xlim([-0.5, max([v for v in x_to_num.values()]) + 0.5]) \n",
    "    ax.set_ylim([-0.5, max([v for v in y_to_num.values()]) + 0.5])\n",
    "\n",
    "    # Colorbar\n",
    "    # Add color legend on the right side of the plot\n",
    "    ax = plt.subplot(plot_grid[:,-1]) # Use the rightmost column of the plot\n",
    "\n",
    "    col_x = [0]*len(palette) # Fixed x coordinate for the bars\n",
    "    bar_y=np.linspace(color_min, color_max, n_colors) # y coordinates for each of the n_colors bars\n",
    "\n",
    "    bar_height = bar_y[1] - bar_y[0]\n",
    "    ax.barh(\n",
    "        y=bar_y,\n",
    "        width=[5]*len(palette), # Make bars 5 units wide\n",
    "        left=col_x, # Make bars start at 0\n",
    "        height=bar_height,\n",
    "        color=palette,\n",
    "        linewidth=0\n",
    "    )\n",
    "    ax.set_xlim(1, 2) # Bars are going from 0 to 5, so lets crop the plot somewhere in the middle\n",
    "    ax.grid(False) # Hide grid\n",
    "    ax.set_facecolor('white') # Make background white\n",
    "    ax.set_xticks([]) # Remove horizontal ticks\n",
    "    ax.set_yticks(np.linspace(min(bar_y), max(bar_y), 3)) # Show vertical ticks for min, middle and max\n",
    "    ax.yaxis.tick_right() # Show vertical ticks on the right \n"
   ]
  },
  {
   "cell_type": "code",
   "execution_count": null,
   "metadata": {},
   "outputs": [
    {
     "name": "stderr",
     "output_type": "stream",
     "text": [
      "/Users/wbr/opt/anaconda3/envs/leeds/lib/python3.7/site-packages/ipykernel_launcher.py:13: UserWarning: This figure includes Axes that are not compatible with tight_layout, so results might be incorrect.\n",
      "  del sys.path[0]\n"
     ]
    },
    {
     "data": {
      "image/png": "[encoded data removed]",
      "text/plain": [
       "<Figure size 432x288 with 2 Axes>"
      ]
     },
     "metadata": {},
     "output_type": "display_data"
    }
   ],
   "source": [
    "sns.set_theme()\n",
    "columns = ['Age','Species R.', 'Shannon','Simpson', 'Berger-Park']\n",
    "corr = data[columns].corr()\n",
    "corr = pd.melt(corr.reset_index(), id_vars='index') # Unpivot the dataframe, so we can get pair of arrays for x and y\n",
    "corr.columns = ['x', 'y', 'value']\n",
    "\n",
    "heatmap(\n",
    "    x=corr['x'],\n",
    "    y=corr['y'],\n",
    "    size=corr['value'].abs(),\n",
    "    color=corr['value']\n",
    ")\n",
    "plt.tight_layout()\n",
    "plt.savefig(os.path.join(basefolder, plotsfolder,'correlation_diversities_age.pdf'),bbox_inches='tight')"
   ]
  }
 ],
 "metadata": {
  "kernelspec": {
   "display_name": "leeds",
   "language": "python",
   "name": "python3"
  },
  "language_info": {
   "codemirror_mode": {
    "name": "ipython",
    "version": 3
   },
   "file_extension": ".py",
   "mimetype": "text/x-python",
   "name": "python",
   "nbconvert_exporter": "python",
   "pygments_lexer": "ipython3",
   "version": "3.7.10"
  },
  "orig_nbformat": 4,
  "vscode": {
   "interpreter": {
    "hash": "093c904bb1fe10834720fbe7bdbb915e23f0cbf4766aabe47c881e70eb996a07"
   }
  }
 },
 "nbformat": 4,
 "nbformat_minor": 2
}
