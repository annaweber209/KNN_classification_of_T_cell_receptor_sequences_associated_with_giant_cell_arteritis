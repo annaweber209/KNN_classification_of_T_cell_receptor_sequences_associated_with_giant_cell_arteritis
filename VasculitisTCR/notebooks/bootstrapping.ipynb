{
 "cells": [
  {
   "cell_type": "code",
   "execution_count": 1,
   "metadata": {},
   "outputs": [],
   "source": [
    "import os\n",
    "import pandas as pd \n",
    "import seaborn as sns\n",
    "import matplotlib.pyplot as plt\n",
    "from collections import Counter\n",
    "import numpy as np\n",
    "import pickle\n",
    "import scipy.stats as sc"
   ]
  },
  {
   "cell_type": "code",
   "execution_count": 2,
   "metadata": {},
   "outputs": [],
   "source": [
    "# Set Variables\n",
    "clustering=\"1\"\n",
    "\n",
    "basefolder = \"\"\n",
    "plotsfolder = 'plots'\n",
    "datafolder_true = \"clustering\"+clustering\n",
    "datafolder_r = \"\"+clustering+\"_r\"\n",
    "\n",
    "start_id = 1000\n",
    "k = 11\n",
    "nr_samples = 500\n",
    "THETA = 0.5\n",
    "tag = \"clustering_\"+clustering"
   ]
  },
  {
   "cell_type": "code",
   "execution_count": 3,
   "metadata": {},
   "outputs": [],
   "source": [
    "# If code was already run before for that constellation of parameters:\n",
    "#with open(os.path.join(datafolder_true, tag+'_distribution_theta'+str(THETA)+'.pkl'), 'rb') as f:\n",
    "#    distribution = pickle.load(f)\n",
    "#with open(os.path.join(datafolder_true, tag+'_distribution_theta'+str(THETA)+'_occur.pkl'), 'rb') as f:\n",
    "#    occurences = pickle.load(f)\n",
    "#with open(os.path.join(datafolder_true, tag+'distribution_theta'+str(THETA)+'_r.pkl'), 'rb') as f:\n",
    "#    distribution_r = pickle.load(f)\n",
    "#with open(os.path.join(datafolder_true, tag+'distribution_theta'+str(THETA)+'_r_occur.pkl'), 'rb') as f:\n",
    "#    occurences_r = pickle.load(f)"
   ]
  },
  {
   "cell_type": "code",
   "execution_count": 4,
   "metadata": {},
   "outputs": [],
   "source": [
    "# Get distribution of true data\n",
    "\n",
    "TPs = []\n",
    "all = []\n",
    "for i in range(nr_samples):\n",
    "    run_id = start_id+i\n",
    "    for fold in range(5):\n",
    "        filename = os.path.join(datafolder_true, str(run_id)+'_'+str(fold)+'_k'+str(k)+'_predictions.csv')\n",
    "        try:\n",
    "            predictions = pd.read_csv(filename)\n",
    "            predictions['ID'] = predictions['v_b_gene']+predictions['j_b_gene']+predictions['cdr3_b_aa']\n",
    "            P = predictions[predictions['labels'] == 1]\n",
    "            TP = P[P['predictions'] > THETA]\n",
    "            TPs.extend(TP['ID'])\n",
    "            all.extend(P['ID'])\n",
    "        except:\n",
    "            #print(filename)\n",
    "            break\n",
    "distribution = Counter(TPs)\n",
    "occurences = Counter(all)\n",
    "with open(os.path.join(datafolder_true, tag+'_distribution_theta'+str(THETA)+'.pkl'), 'wb') as f:\n",
    "    pickle.dump(distribution, f)\n",
    "with open(os.path.join(datafolder_true, tag+'_distribution_theta'+str(THETA)+'_occur.pkl'), 'wb') as f:\n",
    "    pickle.dump(occurences, f)"
   ]
  },
  {
   "cell_type": "code",
   "execution_count": 5,
   "metadata": {},
   "outputs": [],
   "source": [
    "# Get distribution of randomized data\n",
    "\n",
    "TPs = []\n",
    "all = []\n",
    "for i in range(nr_samples):\n",
    "    run_id = start_id+i\n",
    "    for fold in range(5):\n",
    "        try:\n",
    "            filename = os.path.join(datafolder_r, str(run_id)+'_'+str(fold)+'_k'+str(k)+'_predictions.csv')\n",
    "            predictions = pd.read_csv(filename)\n",
    "            predictions['ID'] = predictions['v_b_gene']+predictions['j_b_gene']+predictions['cdr3_b_aa']\n",
    "            P = predictions[predictions['labels'] == 1]\n",
    "            TP = P[P['predictions'] > THETA]\n",
    "            TPs.extend(TP['ID'])\n",
    "            all.extend(P['ID'])\n",
    "        except:\n",
    "            #print(filename)\n",
    "            break\n",
    "distribution_r = Counter(TPs)\n",
    "occurences_r = Counter(all)\n",
    "\n",
    "with open(os.path.join(datafolder_r, tag+'distribution_theta'+str(THETA)+'_r.pkl'), 'wb') as f:\n",
    "    pickle.dump(distribution_r, f)\n",
    "with open(os.path.join(datafolder_r, tag+'distribution_theta'+str(THETA)+'_r_occur.pkl'), 'wb') as f:\n",
    "    pickle.dump(occurences_r, f)"
   ]
  },
  {
   "cell_type": "code",
   "execution_count": 6,
   "metadata": {},
   "outputs": [
    {
     "data": {
      "text/plain": [
       "[57.333333333333336, 61.33766233766234, 66.05882352941175]"
      ]
     },
     "execution_count": 6,
     "metadata": {},
     "output_type": "execute_result"
    }
   ],
   "source": [
    "# Correct distribution values to correct for different occurences of TCRs in random mode\n",
    "def correct_distribution(distribution, occurences):\n",
    "    corrected_distribution = {}\n",
    "    for key in distribution.keys():\n",
    "        corrected_distribution[key] = distribution[key]/occurences[key]*100\n",
    "        if distribution[key] > occurences[key]:\n",
    "            print(key)\n",
    "    return corrected_distribution\n",
    "\n",
    "distribution_corrected = correct_distribution(distribution, occurences)\n",
    "distribution_r_corrected = correct_distribution(distribution_r, occurences_r)\n",
    "\n",
    "# find cutoff\n",
    "total_TP_random = len(distribution_r_corrected.values())\n",
    "alpha = [0.05, 0.01, 0.001]\n",
    "thresholds = []\n",
    "\n",
    "def get_threshold(distribution, over_threshold):\n",
    "    nr_samples = 0\n",
    "    for cutoff in sorted(Counter(distribution.values()))[::-1]:\n",
    "        nr_samples += Counter(distribution.values())[cutoff]\n",
    "        if nr_samples >= over_threshold:\n",
    "            return cutoff-1\n",
    "\n",
    "for a in alpha:\n",
    "    over_threshold = int(a*total_TP_random)\n",
    "    thresholds.append(get_threshold(distribution_r_corrected, over_threshold))\n",
    "thresholds"
   ]
  },
  {
   "cell_type": "code",
   "execution_count": 7,
   "metadata": {},
   "outputs": [
    {
     "data": {
      "image/png": "[encoded data removed]",
      "text/plain": [
       "<Figure size 432x288 with 1 Axes>"
      ]
     },
     "metadata": {},
     "output_type": "display_data"
    }
   ],
   "source": [
    "#Counter(distribution.values())\n",
    "sns.set_theme(style=\"white\", palette=\"colorblind\", font_scale=1.3)\n",
    "plt.hist(distribution_corrected.values(), alpha=0.5, label='True Data')\n",
    "plt.hist(distribution_r_corrected.values(), alpha=0.5, label='Randomized Data')\n",
    "\n",
    "sc.mannwhitneyu([x for x in distribution_corrected.values()], [x for x in distribution_r_corrected.values()])\n",
    "\n",
    "for t in thresholds:\n",
    "    plt.vlines(t, ymin=0, ymax=30000)\n",
    "plt.vlines(max(Counter(distribution_r_corrected.values()).keys()), ymin=0, ymax=30000, colors=['r'])\n",
    "plt.ylim(0,30000)\n",
    "plt.xlim(0,100)\n",
    "plt.legend()\n",
    "plt.title('t = '+str(THETA))\n",
    "plt.ylabel('TCRs (n)')\n",
    "plt.xlabel('True positive rate')\n",
    "plt.tight_layout()\n",
    "plt.savefig(os.path.join(basefolder, plotsfolder, tag+'TP_distribution_theta'+str(THETA)+'.pdf'))"
   ]
  },
  {
   "cell_type": "code",
   "execution_count": 8,
   "metadata": {},
   "outputs": [
    {
     "name": "stdout",
     "output_type": "stream",
     "text": [
      "57.333333333333336 29211\n",
      "61.33766233766234 27246\n",
      "66.05882352941175 24783\n",
      "63 26425\n"
     ]
    }
   ],
   "source": [
    "thresholds.append(max(Counter(distribution_r.values()).keys()))\n",
    "for threshold in thresholds:\n",
    "    TPs_over_threshold = [id for id in distribution_corrected.keys() if distribution_corrected[id] > threshold]\n",
    "    print(threshold, len(TPs_over_threshold))"
   ]
  }
 ],
 "metadata": {
  "kernelspec": {
   "display_name": "leeds",
   "language": "python",
   "name": "python3"
  },
  "language_info": {
   "codemirror_mode": {
    "name": "ipython",
    "version": 3
   },
   "file_extension": ".py",
   "mimetype": "text/x-python",
   "name": "python",
   "nbconvert_exporter": "python",
   "pygments_lexer": "ipython3",
   "version": "3.7.10"
  },
  "orig_nbformat": 4,
  "vscode": {
   "interpreter": {
    "hash": "093c904bb1fe10834720fbe7bdbb915e23f0cbf4766aabe47c881e70eb996a07"
   }
  }
 },
 "nbformat": 4,
 "nbformat_minor": 2
}
