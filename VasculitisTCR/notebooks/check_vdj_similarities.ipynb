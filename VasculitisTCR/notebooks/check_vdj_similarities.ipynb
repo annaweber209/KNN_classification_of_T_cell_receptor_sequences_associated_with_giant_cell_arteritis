{
 "cells": [
  {
   "cell_type": "code",
   "execution_count": 15,
   "metadata": {},
   "outputs": [],
   "source": [
    "import pandas as pd\n",
    "import os\n",
    "import numpy as np\n",
    "import seaborn as sns\n",
    "from collections import Counter\n",
    "import matplotlib.pyplot as plt\n",
    "from Levenshtein import distance as levenshtein_distance"
   ]
  },
  {
   "cell_type": "code",
   "execution_count": 16,
   "metadata": {},
   "outputs": [],
   "source": [
    "# Read in Metadata\n",
    "basefolder = \"\"\n",
    "datafolder = \"\"\n",
    "plotsfolder = 'plots'"
   ]
  },
  {
   "cell_type": "code",
   "execution_count": 28,
   "metadata": {},
   "outputs": [
    {
     "name": "stdout",
     "output_type": "stream",
     "text": [
      "8350 Counter({'CMV': 1978, 'HIV-1': 1358, 'EBV': 1073, 'HomoSapiens': 1002, 'InfluenzaA': 944, 'SARS-CoV-2': 755, 'HCV': 511, 'Wheat': 138, 'HSV-2': 136, 'HTLV-1': 72, 'DENV1': 70, 'synthetic': 68, 'M.tuberculosis': 64, 'DENV3/4': 56, 'TriticumAestivum': 33, 'YFV': 28, 'DENV2': 19, 'Homo sapiens': 10, 'MCPyV': 10, 'E.Coli': 4, 'HIV1': 4, 'HPV-16': 4, 'HIV': 3, 'SaccharomycesCerevisiae': 2, 'HHV': 2, 'SelaginellaMoellendorffii': 2, 'PseudomonasFluorescens': 2, 'PseudomonasAeruginosa': 2})\n"
     ]
    }
   ],
   "source": [
    "vdj = pd.read_csv(os.path.join(basefolder,'vdj_humanTRB_score1_12_06_23.tsv'), delimiter='\\t')\n",
    "\n",
    "def get_similarities(tcrs_to_analyze):\n",
    "    vdj_columns = ['Epitope', 'Epitope species', 'Score', 'MHC A', 'MHC B', 'MHC class']\n",
    "    similarities = pd.DataFrame(columns=['CDR3', 'VDJ_CDR3'].extend(vdj_columns))\n",
    "\n",
    "    for cdr3 in set(tcrs_to_analyze['cdr3_b_aa']):\n",
    "        if cdr3 in vdj['CDR3']:\n",
    "            print(cdr3, vdj[vdj.CDR3 == cdr3]['Epitope'])\n",
    "        for vdj_cdr3 in vdj['CDR3']:\n",
    "            dist = levenshtein_distance(cdr3, vdj_cdr3)\n",
    "            if dist <= 1:\n",
    "                vdj_subset = vdj[vdj.CDR3 == vdj_cdr3][vdj_columns]\n",
    "                vdj_subset['CDR3'] = [cdr3 for x in vdj_subset['Epitope']]\n",
    "                vdj_subset['VDJ_CDR3'] = [vdj_cdr3 for x in vdj_subset['Epitope']]\n",
    "                similarities = pd.concat([similarities, vdj_subset])\n",
    "    return similarities\n",
    "print(len(vdj), Counter(vdj['Epitope species']))"
   ]
  },
  {
   "cell_type": "code",
   "execution_count": 18,
   "metadata": {},
   "outputs": [],
   "source": [
    "def get_epitope(cdr3, similarities):\n",
    "    if cdr3 in set(similarities['CDR3']):\n",
    "        epitope = similarities[similarities['CDR3'] == cdr3]['Epitope species'].values[0]\n",
    "    else:\n",
    "        epitope = 'None'\n",
    "    return epitope"
   ]
  },
  {
   "cell_type": "code",
   "execution_count": 19,
   "metadata": {},
   "outputs": [
    {
     "name": "stdout",
     "output_type": "stream",
     "text": [
      "30 26 1526 1526\n"
     ]
    }
   ],
   "source": [
    "# Search VDJdb for suspicious 49 TCRs\n",
    "tcrs_to_analyze = pd.read_csv(os.path.join(basefolder,'resulting_TCRs/', 'clustering1and3_top1000_highandmedconf.csv'))\n",
    "\n",
    "similarities = get_similarities(tcrs_to_analyze)\n",
    "similarities = similarities.drop_duplicates(subset=['CDR3', 'Epitope'])\n",
    "\n",
    "print(len(similarities), len(set(similarities['CDR3'])), len(tcrs_to_analyze), len(set(tcrs_to_analyze['cdr3_b_aa'])))"
   ]
  },
  {
   "cell_type": "code",
   "execution_count": 20,
   "metadata": {},
   "outputs": [
    {
     "data": {
      "image/png": "[encoded data removed]",
      "text/plain": [
       "<Figure size 432x288 with 1 Axes>"
      ]
     },
     "metadata": {},
     "output_type": "display_data"
    }
   ],
   "source": [
    "epitope_occur = Counter(similarities.drop_duplicates(subset='CDR3')['Epitope species'])\n",
    "cutoff = 3\n",
    "epitope_occur_labels = [x for x in epitope_occur.keys() if epitope_occur[x] > cutoff]\n",
    "epitope_occur_labels.append('Other')\n",
    "epitope_occur_sizes = [epitope_occur[x] for x in epitope_occur.keys() if epitope_occur[x] > cutoff]\n",
    "epitope_occur_sizes.append(np.sum([epitope_occur[x] for x in epitope_occur.keys() if epitope_occur[x] <= cutoff]))\n",
    "epitope_occur_labels,epitope_occur_sizes, epitope_occur\n",
    "\n",
    "# Med and High conf \n",
    "\n",
    "# Pie chart, where the slices will be ordered and plotted counter-clockwise:\n",
    "fig1, ax1 = plt.subplots()\n",
    "ax1.pie(epitope_occur_sizes, labels=epitope_occur_labels, autopct='%1.1f%%',\n",
    "        shadow=True, startangle=90)\n",
    "ax1.axis('equal')  # Equal aspect ratio ensures that pie is drawn as a circle.\n",
    "\n",
    "plt.savefig(os.path.join(basefolder, plotsfolder, 'epitope_species_save.pdf'))"
   ]
  },
  {
   "cell_type": "code",
   "execution_count": 21,
   "metadata": {},
   "outputs": [],
   "source": [
    "tcrs_to_analyze_clusters = pd.read_csv(os.path.join(basefolder,'resulting_tcrs', 'clustering1and3_top1000_highandmedconf_clusters.csv'))\n",
    "def get_cluster(cdr3):\n",
    "    return tcrs_to_analyze_clusters[tcrs_to_analyze_clusters['cdr3_b_aa'] == cdr3]['cluster'].values[0]\n",
    "\n",
    "similarities['cluster'] = similarities['CDR3'].apply(lambda x: get_cluster(x))"
   ]
  },
  {
   "cell_type": "code",
   "execution_count": 24,
   "metadata": {},
   "outputs": [
    {
     "name": "stderr",
     "output_type": "stream",
     "text": [
      "/Users/wbr/opt/anaconda3/envs/leeds/lib/python3.7/site-packages/ipykernel_launcher.py:2: SettingWithCopyWarning: \n",
      "A value is trying to be set on a copy of a slice from a DataFrame.\n",
      "Try using .loc[row_indexer,col_indexer] = value instead\n",
      "\n",
      "See the caveats in the documentation: https://pandas.pydata.org/pandas-docs/stable/user_guide/indexing.html#returning-a-view-versus-a-copy\n",
      "  \n",
      "/Users/wbr/opt/anaconda3/envs/leeds/lib/python3.7/site-packages/ipykernel_launcher.py:3: SettingWithCopyWarning: \n",
      "A value is trying to be set on a copy of a slice from a DataFrame.\n",
      "Try using .loc[row_indexer,col_indexer] = value instead\n",
      "\n",
      "See the caveats in the documentation: https://pandas.pydata.org/pandas-docs/stable/user_guide/indexing.html#returning-a-view-versus-a-copy\n",
      "  This is separate from the ipykernel package so we can avoid doing imports until\n",
      "/Users/wbr/opt/anaconda3/envs/leeds/lib/python3.7/site-packages/ipykernel_launcher.py:4: SettingWithCopyWarning: \n",
      "A value is trying to be set on a copy of a slice from a DataFrame.\n",
      "Try using .loc[row_indexer,col_indexer] = value instead\n",
      "\n",
      "See the caveats in the documentation: https://pandas.pydata.org/pandas-docs/stable/user_guide/indexing.html#returning-a-view-versus-a-copy\n",
      "  after removing the cwd from sys.path.\n",
      "/Users/wbr/opt/anaconda3/envs/leeds/lib/python3.7/site-packages/ipykernel_launcher.py:5: SettingWithCopyWarning: \n",
      "A value is trying to be set on a copy of a slice from a DataFrame.\n",
      "Try using .loc[row_indexer,col_indexer] = value instead\n",
      "\n",
      "See the caveats in the documentation: https://pandas.pydata.org/pandas-docs/stable/user_guide/indexing.html#returning-a-view-versus-a-copy\n",
      "  \"\"\"\n",
      "/Users/wbr/opt/anaconda3/envs/leeds/lib/python3.7/site-packages/ipykernel_launcher.py:6: SettingWithCopyWarning: \n",
      "A value is trying to be set on a copy of a slice from a DataFrame.\n",
      "Try using .loc[row_indexer,col_indexer] = value instead\n",
      "\n",
      "See the caveats in the documentation: https://pandas.pydata.org/pandas-docs/stable/user_guide/indexing.html#returning-a-view-versus-a-copy\n",
      "  \n",
      "/Users/wbr/opt/anaconda3/envs/leeds/lib/python3.7/site-packages/pandas/core/frame.py:4908: SettingWithCopyWarning: \n",
      "A value is trying to be set on a copy of a slice from a DataFrame\n",
      "\n",
      "See the caveats in the documentation: https://pandas.pydata.org/pandas-docs/stable/user_guide/indexing.html#returning-a-view-versus-a-copy\n",
      "  errors=errors,\n"
     ]
    }
   ],
   "source": [
    "tcrs_with_hits = tcrs_to_analyze_clusters[tcrs_to_analyze_clusters['cdr3_b_aa'].isin(similarities['CDR3'])]\n",
    "tcrs_with_hits['Hit Epitope'] = tcrs_with_hits['cdr3_b_aa'].apply(lambda x: similarities[similarities['CDR3'] == x]['Epitope'].values[0])\n",
    "tcrs_with_hits['Hit Epitope Species'] = tcrs_with_hits['cdr3_b_aa'].apply(lambda x: similarities[similarities['CDR3'] == x]['Epitope species'].values[0])\n",
    "tcrs_with_hits['Hit Score'] = tcrs_with_hits['cdr3_b_aa'].apply(lambda x: similarities[similarities['CDR3'] == x]['Score'].values[0])\n",
    "tcrs_with_hits['Hit MHC A'] = tcrs_with_hits['cdr3_b_aa'].apply(lambda x: similarities[similarities['CDR3'] == x]['MHC A'].values[0])\n",
    "tcrs_with_hits['Hit MHC B'] = tcrs_with_hits['cdr3_b_aa'].apply(lambda x: similarities[similarities['CDR3'] == x]['MHC B'].values[0])\n",
    "\n",
    "tcrs_with_hits.drop(['Unnamed: 0', 'Unnamed: 0.1', 'GCA', 'ID', 'InTop1000'], axis=1, inplace=True)\n",
    "#tcrs_with_hits.to_csv(os.path.join(basefolder, 'tcr_specificity_hits.csv'))"
   ]
  },
  {
   "cell_type": "code",
   "execution_count": 25,
   "metadata": {},
   "outputs": [
    {
     "data": {
      "text/plain": [
       "26"
      ]
     },
     "execution_count": 25,
     "metadata": {},
     "output_type": "execute_result"
    }
   ],
   "source": [
    "len(tcrs_with_hits)"
   ]
  },
  {
   "cell_type": "code",
   "execution_count": 26,
   "metadata": {},
   "outputs": [
    {
     "data": {
      "text/plain": [
       "(30, 26)"
      ]
     },
     "execution_count": 26,
     "metadata": {},
     "output_type": "execute_result"
    }
   ],
   "source": [
    "len(similarities['CDR3']), len(set(similarities['CDR3']))"
   ]
  },
  {
   "cell_type": "code",
   "execution_count": 27,
   "metadata": {},
   "outputs": [
    {
     "data": {
      "text/html": [
       "<div>\n",
       "<style scoped>\n",
       "    .dataframe tbody tr th:only-of-type {\n",
       "        vertical-align: middle;\n",
       "    }\n",
       "\n",
       "    .dataframe tbody tr th {\n",
       "        vertical-align: top;\n",
       "    }\n",
       "\n",
       "    .dataframe thead th {\n",
       "        text-align: right;\n",
       "    }\n",
       "</style>\n",
       "<table border=\"1\" class=\"dataframe\">\n",
       "  <thead>\n",
       "    <tr style=\"text-align: right;\">\n",
       "      <th></th>\n",
       "      <th>Epitope</th>\n",
       "      <th>Epitope species</th>\n",
       "      <th>Score</th>\n",
       "      <th>MHC A</th>\n",
       "      <th>MHC B</th>\n",
       "      <th>MHC class</th>\n",
       "      <th>CDR3</th>\n",
       "      <th>VDJ_CDR3</th>\n",
       "      <th>cluster</th>\n",
       "    </tr>\n",
       "  </thead>\n",
       "  <tbody>\n",
       "    <tr>\n",
       "      <th>3716</th>\n",
       "      <td>KVDPIGHVY</td>\n",
       "      <td>HomoSapiens</td>\n",
       "      <td>2</td>\n",
       "      <td>HLA-A*01:01</td>\n",
       "      <td>B2M</td>\n",
       "      <td>MHCI</td>\n",
       "      <td>CASSQDRGYGYTF</td>\n",
       "      <td>CASSFDRGYGYTF</td>\n",
       "      <td>6</td>\n",
       "    </tr>\n",
       "    <tr>\n",
       "      <th>5849</th>\n",
       "      <td>GEEDGAGGHSL</td>\n",
       "      <td>HomoSapiens</td>\n",
       "      <td>2</td>\n",
       "      <td>HLA-B*44:02</td>\n",
       "      <td>B2M</td>\n",
       "      <td>MHCI</td>\n",
       "      <td>CASSQAGGDTGELFF</td>\n",
       "      <td>CASSQAGGTGELFF</td>\n",
       "      <td>7</td>\n",
       "    </tr>\n",
       "    <tr>\n",
       "      <th>387</th>\n",
       "      <td>GELIGILNAAKVPAD</td>\n",
       "      <td>HomoSapiens</td>\n",
       "      <td>3</td>\n",
       "      <td>HLA-DRA*01:01:02</td>\n",
       "      <td>HLA-DRB1*01:01:01</td>\n",
       "      <td>MHCII</td>\n",
       "      <td>CASSQERETQYF</td>\n",
       "      <td>CASSQIRETQYF</td>\n",
       "      <td>6</td>\n",
       "    </tr>\n",
       "    <tr>\n",
       "      <th>509</th>\n",
       "      <td>GQVELGGGNAVEVCKGS</td>\n",
       "      <td>HomoSapiens</td>\n",
       "      <td>3</td>\n",
       "      <td>HLA-DQA1*03:01</td>\n",
       "      <td>HLA-DQB1*03:02</td>\n",
       "      <td>MHCII</td>\n",
       "      <td>CASSQERETQYF</td>\n",
       "      <td>CASSLERETQYF</td>\n",
       "      <td>6</td>\n",
       "    </tr>\n",
       "    <tr>\n",
       "      <th>2528</th>\n",
       "      <td>ALYGFVPVL</td>\n",
       "      <td>HomoSapiens</td>\n",
       "      <td>2</td>\n",
       "      <td>HLA-A*02:01</td>\n",
       "      <td>B2M</td>\n",
       "      <td>MHCI</td>\n",
       "      <td>CASSQGAGDEQFF</td>\n",
       "      <td>CASSQGGDEQFF</td>\n",
       "      <td>1</td>\n",
       "    </tr>\n",
       "  </tbody>\n",
       "</table>\n",
       "</div>"
      ],
      "text/plain": [
       "                Epitope Epitope species  Score             MHC A  \\\n",
       "3716          KVDPIGHVY     HomoSapiens      2       HLA-A*01:01   \n",
       "5849        GEEDGAGGHSL     HomoSapiens      2       HLA-B*44:02   \n",
       "387     GELIGILNAAKVPAD     HomoSapiens      3  HLA-DRA*01:01:02   \n",
       "509   GQVELGGGNAVEVCKGS     HomoSapiens      3    HLA-DQA1*03:01   \n",
       "2528          ALYGFVPVL     HomoSapiens      2       HLA-A*02:01   \n",
       "\n",
       "                  MHC B MHC class             CDR3        VDJ_CDR3  cluster  \n",
       "3716                B2M      MHCI    CASSQDRGYGYTF   CASSFDRGYGYTF        6  \n",
       "5849                B2M      MHCI  CASSQAGGDTGELFF  CASSQAGGTGELFF        7  \n",
       "387   HLA-DRB1*01:01:01     MHCII     CASSQERETQYF    CASSQIRETQYF        6  \n",
       "509      HLA-DQB1*03:02     MHCII     CASSQERETQYF    CASSLERETQYF        6  \n",
       "2528                B2M      MHCI    CASSQGAGDEQFF    CASSQGGDEQFF        1  "
      ]
     },
     "execution_count": 27,
     "metadata": {},
     "output_type": "execute_result"
    }
   ],
   "source": [
    "similarities[similarities['Epitope species'] == 'HomoSapiens']"
   ]
  }
 ],
 "metadata": {
  "kernelspec": {
   "display_name": "leeds",
   "language": "python",
   "name": "python3"
  },
  "language_info": {
   "codemirror_mode": {
    "name": "ipython",
    "version": 3
   },
   "file_extension": ".py",
   "mimetype": "text/x-python",
   "name": "python",
   "nbconvert_exporter": "python",
   "pygments_lexer": "ipython3",
   "version": "3.7.10"
  },
  "orig_nbformat": 4
 },
 "nbformat": 4,
 "nbformat_minor": 2
}
