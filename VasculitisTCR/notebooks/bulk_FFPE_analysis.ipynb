{
 "cells": [
  {
   "cell_type": "code",
   "execution_count": 1,
   "metadata": {},
   "outputs": [],
   "source": [
    "import pandas as pd\n",
    "import matplotlib.pyplot as plt\n",
    "import os\n",
    "import glob\n",
    "from collections import Counter\n",
    "import logomaker\n",
    "import seaborn as sns"
   ]
  },
  {
   "cell_type": "code",
   "execution_count": 11,
   "metadata": {},
   "outputs": [],
   "source": [
    "basefolder = \"\"\n",
    "datafolder = \"\"\n",
    "FFPE_datafolder = \"\"\n",
    "plotsfolder = 'plots'\n",
    "tcrs_to_analyze = pd.read_csv(os.path.join(basefolder,'resulting_TCRs/clustering1and3_top1000_highandmedconf.csv'))\n",
    "tcrs_to_analyze_cluster = pd.read_csv(os.path.join(basefolder,'resulting_tcrs', 'clustering1and3_top1000_highandmedconf_clusters.csv'))\n"
   ]
  },
  {
   "cell_type": "code",
   "execution_count": 10,
   "metadata": {},
   "outputs": [],
   "source": [
    "FFPE_TCRs = pd.DataFrame()\n",
    "\n",
    "for filename in glob.glob(FFPE_datafolder+'/*_clones.txt'):\n",
    "    #print(filename)\n",
    "    sample = pd.read_csv(\n",
    "            filename,\n",
    "            delimiter='\\t',\n",
    "            usecols=['cloneCount', 'cloneFraction', 'aaSeqCDR3','bestVHit', 'bestJHit']\n",
    "        )\n",
    "    FFPE_TCRs = pd.concat([FFPE_TCRs, sample])\n",
    "FFPE_TCRs.drop_duplicates(subset='aaSeqCDR3', inplace=True)"
   ]
  },
  {
   "cell_type": "code",
   "execution_count": 4,
   "metadata": {},
   "outputs": [],
   "source": [
    "FFPE_TCRs['ID'] = [row['bestVHit']+row['bestJHit']+row['aaSeqCDR3'] for i,row in FFPE_TCRs.iterrows()]"
   ]
  },
  {
   "cell_type": "code",
   "execution_count": 6,
   "metadata": {},
   "outputs": [
    {
     "data": {
      "text/plain": [
       "(1526, 15405, 63)"
      ]
     },
     "execution_count": 6,
     "metadata": {},
     "output_type": "execute_result"
    }
   ],
   "source": [
    "set_analyze=set(tcrs_to_analyze_cluster['ID'])\n",
    "set_ffpe=set(FFPE_TCRs['ID'])\n",
    "found = set_ffpe.intersection(set_analyze)\n",
    "len(set_analyze),len(set_ffpe),len(found)"
   ]
  },
  {
   "cell_type": "code",
   "execution_count": 12,
   "metadata": {},
   "outputs": [
    {
     "name": "stdout",
     "output_type": "stream",
     "text": [
      "63\n"
     ]
    }
   ],
   "source": [
    "found_subset = tcrs_to_analyze_cluster[tcrs_to_analyze_cluster['ID'].isin(found)]\n",
    "found_subset.to_csv(os.path.join(basefolder,'GCA-associatedTCRs_in_FFPE.csv'))\n",
    "print(len(found_subset))"
   ]
  },
  {
   "cell_type": "code",
   "execution_count": 13,
   "metadata": {},
   "outputs": [
    {
     "data": {
      "text/plain": [
       "Counter({0: 35, 1: 12, 10: 4, 2: 4, 7: 1, 6: 3, 4: 1, 3: 1, 18: 2})"
      ]
     },
     "execution_count": 13,
     "metadata": {},
     "output_type": "execute_result"
    }
   ],
   "source": [
    "Counter(found_subset['cluster'])"
   ]
  }
 ],
 "metadata": {
  "kernelspec": {
   "display_name": "leeds",
   "language": "python",
   "name": "python3"
  },
  "language_info": {
   "codemirror_mode": {
    "name": "ipython",
    "version": 3
   },
   "file_extension": ".py",
   "mimetype": "text/x-python",
   "name": "python",
   "nbconvert_exporter": "python",
   "pygments_lexer": "ipython3",
   "version": "3.7.10"
  },
  "orig_nbformat": 4,
  "vscode": {
   "interpreter": {
    "hash": "093c904bb1fe10834720fbe7bdbb915e23f0cbf4766aabe47c881e70eb996a07"
   }
  }
 },
 "nbformat": 4,
 "nbformat_minor": 2
}
